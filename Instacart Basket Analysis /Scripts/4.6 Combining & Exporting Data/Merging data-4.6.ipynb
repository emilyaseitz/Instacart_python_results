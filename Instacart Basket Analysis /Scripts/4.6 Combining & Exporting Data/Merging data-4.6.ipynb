{
 "cells": [
  {
   "cell_type": "markdown",
   "id": "30b7d6ff",
   "metadata": {},
   "source": [
    "## Exercise 4.6 Mid section prep on Merges "
   ]
  },
  {
   "cell_type": "markdown",
   "id": "2cbff717",
   "metadata": {},
   "source": [
    "### Scripts Contained:"
   ]
  },
  {
   "cell_type": "markdown",
   "id": "ac643592",
   "metadata": {},
   "source": [
    "#### 1. Import Orders Products Prior and Orders dataframes- need product_id column from 1st file to look up to Products file."
   ]
  },
  {
   "cell_type": "markdown",
   "id": "1801b40e",
   "metadata": {},
   "source": [
    "#### 2. Merge two files with inner join"
   ]
  },
  {
   "cell_type": "markdown",
   "id": "ffb06d98",
   "metadata": {},
   "source": [
    "#### 3. Confirm the merge and shape of two dataframes"
   ]
  },
  {
   "cell_type": "markdown",
   "id": "aa33516d",
   "metadata": {},
   "source": [
    "#### 4. Extract new combined file in pkl format"
   ]
  },
  {
   "cell_type": "markdown",
   "id": "6882edea",
   "metadata": {},
   "source": [
    "##### 1. Import Orders Products Prior and Orders dataframes- need product_id column from 1st file to look up to Products file."
   ]
  },
  {
   "cell_type": "code",
   "execution_count": 5,
   "id": "98cf0d4c",
   "metadata": {},
   "outputs": [],
   "source": [
    "# Import libraries\n",
    "\n",
    "import pandas as pd\n",
    "import numpy as np\n",
    "import os"
   ]
  },
  {
   "cell_type": "code",
   "execution_count": 6,
   "id": "730be9e1",
   "metadata": {},
   "outputs": [],
   "source": [
    "#import data frame\n",
    "df_ords_prior = pd.read_csv(r'/Users/emilyseitz/Desktop/emilyseitz/Instacart Basket Analysis /Scripts/4.6 Combining & Exporting Data/orders_products_prior.csv', index_col = False)"
   ]
  },
  {
   "cell_type": "code",
   "execution_count": 7,
   "id": "528f9f16",
   "metadata": {},
   "outputs": [],
   "source": [
    "#import data frame\n",
    "df_ords = pd.read_csv(r'/Users/emilyseitz/Desktop/emilyseitz/Instacart Basket Analysis /Data/Original Data/orders.csv', index_col = False)"
   ]
  },
  {
   "cell_type": "code",
   "execution_count": 16,
   "id": "6e997d4d",
   "metadata": {},
   "outputs": [],
   "source": [
    "path = r'/Users/emilyseitz/Desktop/emilyseitz/Instacart Basket Analysis '"
   ]
  },
  {
   "cell_type": "code",
   "execution_count": 17,
   "id": "167bb92d",
   "metadata": {},
   "outputs": [
    {
     "data": {
      "text/plain": [
       "'/Users/emilyseitz/Desktop/emilyseitz/Instacart Basket Analysis '"
      ]
     },
     "execution_count": 17,
     "metadata": {},
     "output_type": "execute_result"
    }
   ],
   "source": [
    "path"
   ]
  },
  {
   "cell_type": "code",
   "execution_count": 10,
   "id": "892fb36b",
   "metadata": {},
   "outputs": [
    {
     "data": {
      "text/html": [
       "<div>\n",
       "<style scoped>\n",
       "    .dataframe tbody tr th:only-of-type {\n",
       "        vertical-align: middle;\n",
       "    }\n",
       "\n",
       "    .dataframe tbody tr th {\n",
       "        vertical-align: top;\n",
       "    }\n",
       "\n",
       "    .dataframe thead th {\n",
       "        text-align: right;\n",
       "    }\n",
       "</style>\n",
       "<table border=\"1\" class=\"dataframe\">\n",
       "  <thead>\n",
       "    <tr style=\"text-align: right;\">\n",
       "      <th></th>\n",
       "      <th>order_id</th>\n",
       "      <th>product_id</th>\n",
       "      <th>add_to_cart_order</th>\n",
       "      <th>reordered</th>\n",
       "    </tr>\n",
       "  </thead>\n",
       "  <tbody>\n",
       "    <tr>\n",
       "      <th>0</th>\n",
       "      <td>2</td>\n",
       "      <td>33120</td>\n",
       "      <td>1</td>\n",
       "      <td>1</td>\n",
       "    </tr>\n",
       "    <tr>\n",
       "      <th>1</th>\n",
       "      <td>2</td>\n",
       "      <td>28985</td>\n",
       "      <td>2</td>\n",
       "      <td>1</td>\n",
       "    </tr>\n",
       "    <tr>\n",
       "      <th>2</th>\n",
       "      <td>2</td>\n",
       "      <td>9327</td>\n",
       "      <td>3</td>\n",
       "      <td>0</td>\n",
       "    </tr>\n",
       "    <tr>\n",
       "      <th>3</th>\n",
       "      <td>2</td>\n",
       "      <td>45918</td>\n",
       "      <td>4</td>\n",
       "      <td>1</td>\n",
       "    </tr>\n",
       "    <tr>\n",
       "      <th>4</th>\n",
       "      <td>2</td>\n",
       "      <td>30035</td>\n",
       "      <td>5</td>\n",
       "      <td>0</td>\n",
       "    </tr>\n",
       "  </tbody>\n",
       "</table>\n",
       "</div>"
      ],
      "text/plain": [
       "   order_id  product_id  add_to_cart_order  reordered\n",
       "0         2       33120                  1          1\n",
       "1         2       28985                  2          1\n",
       "2         2        9327                  3          0\n",
       "3         2       45918                  4          1\n",
       "4         2       30035                  5          0"
      ]
     },
     "execution_count": 10,
     "metadata": {},
     "output_type": "execute_result"
    }
   ],
   "source": [
    "#check the output\n",
    "df_ords_prior.head()"
   ]
  },
  {
   "cell_type": "code",
   "execution_count": 11,
   "id": "dc5e7c00",
   "metadata": {},
   "outputs": [
    {
     "data": {
      "text/plain": [
       "(32434489, 4)"
      ]
     },
     "execution_count": 11,
     "metadata": {},
     "output_type": "execute_result"
    }
   ],
   "source": [
    "df_ords_prior.shape"
   ]
  },
  {
   "cell_type": "code",
   "execution_count": 12,
   "id": "7a2d02cb",
   "metadata": {},
   "outputs": [
    {
     "data": {
      "text/plain": [
       "(3421083, 7)"
      ]
     },
     "execution_count": 12,
     "metadata": {},
     "output_type": "execute_result"
    }
   ],
   "source": [
    "df_ords.shape"
   ]
  },
  {
   "cell_type": "markdown",
   "id": "c7fe4e17",
   "metadata": {},
   "source": [
    "##### 2. Merge two files with inner join"
   ]
  },
  {
   "cell_type": "code",
   "execution_count": 13,
   "id": "72f79ae4",
   "metadata": {},
   "outputs": [],
   "source": [
    "df_merged_large = df_ords.merge(df_ords_prior, on = 'order_id', how = 'inner',  indicator = True)"
   ]
  },
  {
   "cell_type": "markdown",
   "id": "889e20ca",
   "metadata": {},
   "source": [
    "##### 3. Confirm the merge and shape of two dataframes"
   ]
  },
  {
   "cell_type": "code",
   "execution_count": 14,
   "id": "b611d481",
   "metadata": {},
   "outputs": [
    {
     "data": {
      "text/plain": [
       "both          32434489\n",
       "left_only            0\n",
       "right_only           0\n",
       "Name: _merge, dtype: int64"
      ]
     },
     "execution_count": 14,
     "metadata": {},
     "output_type": "execute_result"
    }
   ],
   "source": [
    "df_merged_large['_merge'].value_counts()"
   ]
  },
  {
   "cell_type": "markdown",
   "id": "f60a39e3",
   "metadata": {},
   "source": [
    "##### 4. Extract new combined file in pkl format"
   ]
  },
  {
   "cell_type": "code",
   "execution_count": 18,
   "id": "0e5c7cf1",
   "metadata": {},
   "outputs": [],
   "source": [
    "# Export data to pkl\n",
    "\n",
    "df_merged_large.to_pickle(os.path.join(path, 'Data','Prepared Data', 'orders_products_combined.pkl'))"
   ]
  },
  {
   "cell_type": "code",
   "execution_count": null,
   "id": "51ec4738",
   "metadata": {},
   "outputs": [],
   "source": []
  }
 ],
 "metadata": {
  "kernelspec": {
   "display_name": "Python 3 (ipykernel)",
   "language": "python",
   "name": "python3"
  },
  "language_info": {
   "codemirror_mode": {
    "name": "ipython",
    "version": 3
   },
   "file_extension": ".py",
   "mimetype": "text/x-python",
   "name": "python",
   "nbconvert_exporter": "python",
   "pygments_lexer": "ipython3",
   "version": "3.11.4"
  }
 },
 "nbformat": 4,
 "nbformat_minor": 5
}
